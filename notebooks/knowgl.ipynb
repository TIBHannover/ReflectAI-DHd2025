{
  "nbformat": 4,
  "nbformat_minor": 0,
  "metadata": {
    "colab": {
      "provenance": []
    },
    "kernelspec": {
      "name": "python3",
      "display_name": "Python 3"
    },
    "language_info": {
      "name": "python"
    }
  },
  "cells": [
    {
      "cell_type": "code",
      "source": [
        "import torch\n",
        "import json\n",
        "from transformers import AutoTokenizer, AutoModelForSeq2SeqLM"
      ],
      "metadata": {
        "id": "aZz9-TpZCPZr"
      },
      "execution_count": null,
      "outputs": []
    },
    {
      "cell_type": "code",
      "source": [
        "if torch.cuda.is_available():\n",
        "    device = torch.device(\"cuda\")\n",
        "else:\n",
        "    device = torch.device(\"cpu\")\n",
        "\n",
        "tokenizer = AutoTokenizer.from_pretrained(\"ibm/knowgl-large\")\n",
        "model = AutoModelForSeq2SeqLM.from_pretrained(\"ibm/knowgl-large\").to(device)"
      ],
      "metadata": {
        "id": "iqNb8NySCUpP"
      },
      "execution_count": null,
      "outputs": []
    },
    {
      "cell_type": "code",
      "execution_count": null,
      "metadata": {
        "id": "SnLa_pRvB8Kn"
      },
      "outputs": [],
      "source": [
        "\n",
        "def map_relation_to_wikidata(relation):\n",
        "    mapping = {\n",
        "        \"applies to jurisdiction\": \"wdt:P1001\",\n",
        "        \"architectural style\": \"wdt:P149\",\n",
        "        \"award received\": \"wdt:P166\",\n",
        "        \"candidacy in election\": \"wdt:P726\",\n",
        "        \"capital\": \"wdt:P36\",\n",
        "        \"collection\": \"wdt:P195\",\n",
        "        \"connects with\": \"wdt:P2789\",\n",
        "        \"contains administrative territorial entity\": \"wdt:P150\",\n",
        "        \"creator\": \"wdt:P170\",\n",
        "        \"depicts\": \"wdt:P180\",\n",
        "        \"different from\": \"wdt:P1889\",\n",
        "        \"family name\": \"wdt:P734\",\n",
        "        \"followed by\": \"wdt:P156\",\n",
        "        \"has works in the collection\": \"wdt:P6379\",\n",
        "        \"headquarters location\": \"wdt:P159\",\n",
        "        \"instance of\": \"wdt:P31\",\n",
        "        \"located in or next to body of water\": \"wdt:P206\",\n",
        "        \"location\": \"wdt:P276\",\n",
        "        \"made from material\": \"wdt:P186\",\n",
        "        \"measured physical quantity\": \"wdt:P111\",\n",
        "        \"member of political party\": \"wdt:P102\",\n",
        "        \"mother\": \"wdt:P25\",\n",
        "        \"movement\": \"wdt:P135\",\n",
        "        \"notable work\": \"wdt:P800\",\n",
        "        \"occupant\": \"wdt:P466\",\n",
        "        \"owner of\": \"wdt:P1830\",\n",
        "        \"parent organization\": \"wdt:P749\",\n",
        "        \"part of\": \"wdt:P361\",\n",
        "        \"participant in\": \"wdt:P1344\",\n",
        "        \"significant person\": \"wdt:P3342\",\n",
        "        \"shares border with\": \"wdt:P47\",\n",
        "        \"spouse\": \"wdt:P26\",\n",
        "        \"subclass of\": \"wdt:P279\",\n",
        "        \"time period\": \"wdt:P2348\",\n",
        "        \"twinned administrative body\": \"wdt:P190\",\n",
        "        \"uses\": \"wdt:P2283\",\n",
        "        \"work location\": \"wdt:P937\",\n",
        "    }\n",
        "    if relation in mapping:\n",
        "        return mapping[relation]\n",
        "    print(f'WARNING: relation not mapped to wikidata \"{relation}\"')\n",
        "    return None\n",
        "\n",
        "\n",
        "def parse_string(s):\n",
        "    s = s.strip(\"[]\")\n",
        "    # Split into subject, relation, object\n",
        "    parts = s.split(\"|\")\n",
        "    result = {}\n",
        "    for i, part in enumerate(parts):\n",
        "        part = part.strip(\"()\")\n",
        "        mention_label_type = part.split(\"#\")\n",
        "        if i == 0:\n",
        "            result[\"subject\"] = {\n",
        "                \"mention\": mention_label_type[0],\n",
        "                \"label\": mention_label_type[1],\n",
        "                \"type\": mention_label_type[2],\n",
        "            }\n",
        "        elif i == 1:\n",
        "            result[\"relation\"] = {\"label\": mention_label_type[0],\n",
        "                                  \"wikidata_id\": map_relation_to_wikidata(mention_label_type[0])}\n",
        "        else:\n",
        "            result[\"object\"] = {\n",
        "                \"mention\": mention_label_type[0],\n",
        "                \"label\": mention_label_type[1],\n",
        "                \"type\": mention_label_type[2],\n",
        "            }\n",
        "\n",
        "    if not('object' in result and 'relation' in result and 'subject' in result):\n",
        "        raise ValueError('Triplet incomplete')\n",
        "    return result\n",
        "\n",
        "def convert_to_triplets(knowgl_outputs):\n",
        "    results = []\n",
        "    for x in knowgl_outputs.split(\"$\"):\n",
        "        try:\n",
        "            results.append(parse_string(x))\n",
        "        except Exception as e:\n",
        "            print(f'Exception {e} when parsing:', x)\n",
        "            continue\n",
        "\n",
        "    return results"
      ]
    },
    {
      "cell_type": "code",
      "source": [
        "##################### Change something here\n",
        "text = \"The Mona Lisa is a half-length portrait painting by Italian artist Leonardo da Vinci.\"\n",
        "##################### Change something here\n",
        "\n",
        "inputs = tokenizer(text, return_tensors=\"pt\").to(device)\n",
        "num_beams = 15\n",
        "output = model.generate(**inputs, max_length=1000, num_beams=num_beams)\n",
        "\n",
        "decoded_output = tokenizer.decode(output[0].to(\"cpu\"), skip_special_tokens=True)\n",
        "\n",
        "triplets = convert_to_triplets(decoded_output)\n",
        "print(json.dumps(triplets, indent=2))"
      ],
      "metadata": {
        "id": "IrC82rI-T07F"
      },
      "execution_count": null,
      "outputs": []
    },
    {
      "cell_type": "markdown",
      "source": [
        "# Load some dh resources"
      ],
      "metadata": {
        "id": "mrYnv1BimWFV"
      }
    },
    {
      "cell_type": "code",
      "source": [
        "import requests\n",
        "\n",
        "##################### Change something here\n",
        "#master = \"https://raw.githubusercontent.com/TIBHannover/ReflectAI-DHd2025/refs/heads/main/data/Man_with_a_Book.txt\"\n",
        "#master = \"https://raw.githubusercontent.com/TIBHannover/ReflectAI-DHd2025/refs/heads/main/data/Hunter_Getting_Dress.txt\"\n",
        "#master = \"https://raw.githubusercontent.com/TIBHannover/ReflectAI-DHd2025/refs/heads/main/data/Conversion_of_Mary_M.txt\"\n",
        "#master = \"https://raw.githubusercontent.com/TIBHannover/ReflectAI-DHd2025/refs/heads/main/data/Perseus_und_Andromed.txt\"\n",
        "master = \"https://raw.githubusercontent.com/TIBHannover/ReflectAI-DHd2025/refs/heads/main/data/Portrait_of_Laura_Di.txt\"\n",
        "##################### Change something here\n",
        "\n",
        "req = requests.get(master)\n",
        "text = req.text\n",
        "print(text)"
      ],
      "metadata": {
        "id": "xuegzhngXAa3"
      },
      "execution_count": null,
      "outputs": []
    },
    {
      "cell_type": "code",
      "source": [
        "inputs = tokenizer(text, return_tensors=\"pt\").to(device)\n",
        "num_beams = 15\n",
        "output = model.generate(**inputs, max_length=1000, num_beams=num_beams)\n",
        "\n",
        "decoded_output = tokenizer.decode(output[0].to(\"cpu\"), skip_special_tokens=True)\n",
        "\n",
        "triplets = convert_to_triplets(decoded_output)"
      ],
      "metadata": {
        "id": "HW6Kl3C_m3zL"
      },
      "execution_count": null,
      "outputs": []
    },
    {
      "cell_type": "code",
      "source": [
        "print(json.dumps(triplets, indent=2))"
      ],
      "metadata": {
        "id": "QrJaIU7L0s_P"
      },
      "execution_count": null,
      "outputs": []
    }
  ]
}