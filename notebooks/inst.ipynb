{
  "nbformat": 4,
  "nbformat_minor": 0,
  "metadata": {
    "colab": {
      "provenance": [],
      "gpuType": "T4"
    },
    "kernelspec": {
      "name": "python3",
      "display_name": "Python 3"
    },
    "language_info": {
      "name": "python"
    },
    "accelerator": "GPU"
  },
  "cells": [
    {
      "cell_type": "code",
      "execution_count": null,
      "metadata": {
        "id": "P1ZuWTvWLrBV"
      },
      "outputs": [],
      "source": [
        "!pip install -q transformers accelerate \"bitsandbytes>0.37.0\""
      ]
    },
    {
      "cell_type": "code",
      "source": [
        "from huggingface_hub import login\n",
        "\n",
        "login()"
      ],
      "metadata": {
        "id": "PjL7d11TL5VZ"
      },
      "execution_count": null,
      "outputs": []
    },
    {
      "cell_type": "code",
      "source": [
        "import torch\n",
        "from transformers import pipeline#, BitsAndBytesConfig\n",
        "\n",
        "#quantization_config = BitsAndBytesConfig(load_in_8bit=True)\n",
        "\n",
        "pipe = pipeline(\"text-generation\", \"meta-llama/Llama-3.2-1B-Instruct\", torch_dtype=torch.bfloat16, device_map=\"auto\")"
      ],
      "metadata": {
        "id": "c3Sl_HxyLuT5"
      },
      "execution_count": null,
      "outputs": []
    },
    {
      "cell_type": "code",
      "source": [
        "##################### Change something here\n",
        "chat = [\n",
        "    {\"role\": \"system\", \"content\": \"You are a sassy, wise-cracking robot as imagined by Hollywood circa 1986.\"},\n",
        "    {\"role\": \"user\", \"content\": \"Hey, can you tell me any fun things to do in New York?\"}\n",
        "]\n",
        "##################### Change something here\n",
        "\n",
        "response = pipe(chat, max_new_tokens=512)\n",
        "print(response[0]['generated_text'][-1]['content'])"
      ],
      "metadata": {
        "id": "11kxta9mM86I"
      },
      "execution_count": null,
      "outputs": []
    },
    {
      "cell_type": "code",
      "source": [
        "# Load some dh resources"
      ],
      "metadata": {
        "id": "tePCvjzlCuv1"
      },
      "execution_count": null,
      "outputs": []
    },
    {
      "cell_type": "code",
      "source": [
        "import requests\n",
        "\n",
        "##################### Change something here\n",
        "#master = \"https://raw.githubusercontent.com/TIBHannover/ReflectAI-DHd2025/refs/heads/main/data/Man_with_a_Book.txt\"\n",
        "#master = \"https://raw.githubusercontent.com/TIBHannover/ReflectAI-DHd2025/refs/heads/main/data/Hunter_Getting_Dress.txt\"\n",
        "#master = \"https://raw.githubusercontent.com/TIBHannover/ReflectAI-DHd2025/refs/heads/main/data/Conversion_of_Mary_M.txt\"\n",
        "#master = \"https://raw.githubusercontent.com/TIBHannover/ReflectAI-DHd2025/refs/heads/main/data/Perseus_und_Andromed.txt\"\n",
        "master = \"https://raw.githubusercontent.com/TIBHannover/ReflectAI-DHd2025/refs/heads/main/data/Portrait_of_Laura_Di.txt\"\n",
        "##################### Change something here\n",
        "\n",
        "req = requests.get(master)\n",
        "text = req.text\n",
        "print(text)"
      ],
      "metadata": {
        "id": "T5noqt3jcDlV"
      },
      "execution_count": null,
      "outputs": []
    },
    {
      "cell_type": "code",
      "source": [
        "##################### Change something here\n",
        "chat = [\n",
        "    {\"role\": \"system\", \"content\": \"You are an art history expert.\"},\n",
        "    {\"role\": \"user\", \"content\": f\"Can you extract all entities and relations from the following text so that I can store them in a knowledge graph? \\n\\n {text}\"}\n",
        "]\n",
        "##################### Change something here\n",
        "\n",
        "response = pipe(chat, max_new_tokens=512)\n",
        "print(response[0]['generated_text'][-1]['content'])"
      ],
      "metadata": {
        "id": "VR6dqjUBkDaF"
      },
      "execution_count": null,
      "outputs": []
    }
  ]
}