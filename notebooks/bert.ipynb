{
  "nbformat": 4,
  "nbformat_minor": 0,
  "metadata": {
    "colab": {
      "provenance": []
    },
    "kernelspec": {
      "name": "python3",
      "display_name": "Python 3"
    },
    "language_info": {
      "name": "python"
    }
  },
  "cells": [
    {
      "cell_type": "code",
      "execution_count": 16,
      "metadata": {
        "id": "PCsiBO6nOsAR"
      },
      "outputs": [],
      "source": [
        "!pip install -q transformers"
      ]
    },
    {
      "cell_type": "code",
      "source": [
        "from transformers import pipeline\n",
        "\n",
        "unmasker = pipeline('fill-mask', model='bert-base-multilingual-cased')\n",
        "\n",
        "top_5 = unmasker(\"[MASK] is the capital from germany.\")\n",
        "for x in top_5:\n",
        "  print(f\"{x['score']:.3} \\t {x['sequence']}\")"
      ],
      "metadata": {
        "id": "uHnt3b06TaSg"
      },
      "execution_count": null,
      "outputs": []
    },
    {
      "cell_type": "code",
      "source": [
        "top_5 = unmasker(\"The Mona Lisa is a half-length portrait painting by [MASK] artist Leonardo da Vinci.\")\n",
        "for x in top_5:\n",
        "  print(f\"{x['score']:.3} \\t {x['sequence']}\")"
      ],
      "metadata": {
        "id": "7mJtpR3MLCMT"
      },
      "execution_count": null,
      "outputs": []
    },
    {
      "cell_type": "code",
      "source": [
        "from transformers import pipeline\n",
        "\n",
        "unmasker = pipeline('fill-mask', model='xlm-roberta-large')\n",
        "top_5 = unmasker(\"<mask> is the capital from germany.\")\n",
        "for x in top_5:\n",
        "  print(f\"{x['score']:.3} \\t {x['sequence']}\")"
      ],
      "metadata": {
        "id": "2CFgKwEzThyW"
      },
      "execution_count": null,
      "outputs": []
    },
    {
      "cell_type": "code",
      "source": [
        "top_5 = unmasker(\"The Mona Lisa is a half-length portrait painting by <mask> artist Leonardo da Vinci.\")\n",
        "for x in top_5:\n",
        "  print(f\"{x['score']:.3} \\t {x['sequence']}\")"
      ],
      "metadata": {
        "id": "lbhgKcLGs9Xd"
      },
      "execution_count": null,
      "outputs": []
    }
  ]
}